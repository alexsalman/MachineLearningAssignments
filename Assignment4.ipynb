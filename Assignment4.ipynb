{
 "cells": [
  {
   "cell_type": "markdown",
   "id": "uniform-billy",
   "metadata": {},
   "source": [
    "<h1 align=\"center\"> CSE 242 Assignment 4, Fall 2021\n",
    "\n",
    "<h2 align=\"center\"> 2 Questions, 100 pts + 10 bonus pts, due: 23:59 pm, Nov 24th, 2021\n",
    "    \n",
    "    Your name: Alex Salman         Student ID: 1851405"
   ]
  },
  {
   "cell_type": "markdown",
   "id": "6508d88e",
   "metadata": {},
   "source": [
    "## Instruction \n",
    "\n",
    "- Submit your assignments onto **Gradescope** by the due date. Upload a <code>zip</code> file containing:\n",
    "\n",
    "    (1) The saved/latest <code>.ipynb</code> file, please **rename this file with your name included**.\n",
    "\n",
    "    (2) Also save your file into a pdf version, if error appears, save an html version instead (easy to grade for written questions).\n",
    "    \n",
    "    **For assignment related questions, please reach TA or grader through Slack/Piazza/Email.**\n",
    "    \n",
    "- This is an **individual** assignment. All help from others (from the web, books other than text, or people other than the TA or instructor) must be clearly acknowledged. \n",
    "\n",
    "## Objective \n",
    "\n",
    "- **Task 1:** Kernel Methods with Noisy Setting (Coding)\n",
    "- **Task 2:** Image Classification with Scikit-learn (Coding)"
   ]
  },
  {
   "cell_type": "markdown",
   "id": "b13a1da5",
   "metadata": {},
   "source": [
    "# Question 1. (Kernel Methods with Noisy Setting, 60 pts)\n",
    "\n",
    "**SVM on synthetic dataset generated as follows:**\n",
    "\n",
    "- Draw $1000\\ (x_0, x_1)$ feature vectors from the 2-D Gaussian distribution with mean $\\mu_+ = (1,1)$ and $\\Sigma_+ = [1, 0; 0, 1]$ and label them as $+1$.\n",
    "\n",
    "- Draw $1000\\ (x_0, x_1)$ feature vectors from the 2-D Gaussian distribution with mean $\\mu_- = (-1,-1)$ and $\\Sigma_- = [3, 0; 0, 3]$ and label them as $-1$.\n",
    "    \n",
    "- This gives you a $2000$ example training set. Repeat the above to draw a test set the same way.\n",
    "\n",
    "Use a SVM package (I used scikit-learn's svm.SVC class) to learn SVMs with a variety of parameter settings. "
   ]
  },
  {
   "cell_type": "markdown",
   "id": "7c96b9f4",
   "metadata": {},
   "source": [
    "## (a -- 20 pts) \n",
    "\n",
    "- Use an RBF kernel with parameters $C=1$, $\\gamma = 0.01$. \n",
    "\n",
    "- For each training data with +1 label, randomly flip their label to -1 with probability $\\textbf{0.35}$.\n",
    "\n",
    "- For each training data with -1 label, randomly flip their label to +1 with probability $\\textbf{0.20}$.\n",
    "\n",
    "- Train with the above noisy training examples.\n",
    "\n",
    "- Random flipping introduces the randomness. You can repeat multiple times (e.g. 20) and then report the average accuracy on the testing dataset (clean) in the noise parameter setting. \n",
    "\n"
   ]
  },
  {
   "cell_type": "code",
   "execution_count": 185,
   "id": "0c9ca9a5",
   "metadata": {},
   "outputs": [
    {
     "name": "stdout",
     "output_type": "stream",
     "text": [
      "2000 example training set: (2000, 3)\n",
      "2000 example testing set: (2000, 3)\n",
      "a:  0.7728249999999999\n"
     ]
    }
   ],
   "source": [
    "# Your code here\n",
    "# https://towardsdatascience.com/svm-classifier-and-rbf-kernel-how-to-make-better-models-in-python-73bb4914af5b\n",
    "# https://medium.com/learn-with-akansha/creating-sample-dataset-using-numpy-2b78d4079b3c\n",
    "# C is Regularization parameter\n",
    "# A low C makes the decision surface smooth, while a high C aims at classifying all training examples correctly\n",
    "# gamma defines how much influence a single training example has. The larger gamma is,\n",
    "# the closer other examples must be to be affected.\n",
    "# https://numpy.org/doc/stable/reference/random/generated/numpy.random.multivariate_normal.html\n",
    "# https://pynative.com/python-random-choice/\n",
    "\n",
    "from sklearn.svm import SVC # for Support Vector Classification model\n",
    "import numpy as np\n",
    "import matplotlib.pyplot as plt\n",
    "from numpy import random\n",
    "from sklearn.utils import shuffle\n",
    "from sklearn.metrics import accuracy_score\n",
    "########################## training set ###########################\n",
    "# np.random.multivariate_normal(mean, cov, 1000).T\n",
    "x0, x1 = np.random.multivariate_normal((1,1), [[1,0],[0,1]], 1000).T\n",
    "train_plus = np.column_stack((x0,x1))\n",
    "expand = np.array(['+1' for _ in range(1000)])\n",
    "label_plus = np.expand_dims(expand, axis=1)\n",
    "labeled_train_plus = np.hstack((train_plus, label_plus))\n",
    "\n",
    "x0, x1 = np.random.multivariate_normal((-1,-1), [[3,0],[0,3]], 1000).T\n",
    "train_minus = np.column_stack((x0,x1))\n",
    "expand = np.array(['-1' for _ in range(1000)])\n",
    "label_minus = np.expand_dims(expand, axis=1)\n",
    "labeled_train_minus = np.hstack((train_minus, label_minus))\n",
    "training_data_2000 = np.vstack((labeled_train_plus, labeled_train_minus))\n",
    "print(\"2000 example training set:\", training_data_2000.shape)\n",
    "########################## testing set ###########################\n",
    "# np.random.multivariate_normal(mean, cov, 1000).T\n",
    "x0, x1 = np.random.multivariate_normal((1,1), [[1,0],[0,1]], 1000).T\n",
    "# test_plus_1 = np.array([x0,x1])\n",
    "test_plus = np.column_stack((x0,x1))\n",
    "expand = np.array(['+1' for _ in range(1000)])\n",
    "label_plus = np.expand_dims(expand, axis=1)\n",
    "labeled_test_plus = np.hstack((test_plus, label_plus))\n",
    "\n",
    "x0, x1 = np.random.multivariate_normal((-1,-1), [[3,0],[0,3]], 1000).T\n",
    "test_minus = np.column_stack((x0,x1))\n",
    "expand = np.array(['-1' for _ in range(1000)])\n",
    "label_minus = np.expand_dims(expand, axis=1)\n",
    "labeled_test_minus = np.hstack((train_minus, label_minus))\n",
    "testing_data_2000 = np.vstack((labeled_test_plus, labeled_test_minus))\n",
    "print(\"2000 example testing set:\", testing_data_2000.shape)\n",
    "\n",
    "X_test = testing_data_2000[:,0:2]\n",
    "y_test = testing_data_2000[:,2]\n",
    "\n",
    "#0.35 for +1 to -1\n",
    "rand_350 = random.randint(1000, size=(350))\n",
    "for i in range(len(rand_350)-1) :\n",
    "    training_data_2000[i,2] = \"-1\"\n",
    "    \n",
    "#0.20 for -1 to +1\n",
    "rand_200 = random.randint(1000, size=(200))\n",
    "for i in range(len(rand_200)-1) :\n",
    "    training_data_2000[i+1000,2] = \"+1\"\n",
    "    \n",
    "X = training_data_2000[:,0:2]\n",
    "y = training_data_2000[:,2]\n",
    "\n",
    "X_train, y_train = shuffle(X, y, random_state=0)\n",
    "\n",
    "model = SVC(kernel='rbf', probability=True, C=1, gamma=0.01)\n",
    "model.fit(X_train, y_train)\n",
    "y_pred = model.predict(X_test)\n",
    "summation = 0\n",
    "for i in range(19):\n",
    "    summation += accuracy_score(y_test,y_pred)\n",
    "a = summation/20\n",
    "print(\"a: \",a)"
   ]
  },
  {
   "cell_type": "markdown",
   "id": "e78a1729",
   "metadata": {},
   "source": [
    "## (b -- 20 pts) Open question\n",
    "\n",
    "- Try using **K-Nearst Neighbors** to correct wrong labels before training. \n",
    "\n",
    "- Then train the model with the newly processed training dataset. \n",
    "\n",
    "- Report the accuracy on the testing dataset in the noise parameter setting. Do you observe performance improvement?\n"
   ]
  },
  {
   "cell_type": "code",
   "execution_count": 186,
   "id": "3087633b",
   "metadata": {},
   "outputs": [
    {
     "name": "stdout",
     "output_type": "stream",
     "text": [
      "330\n",
      "a:  0.7728249999999999\n",
      "b:  0.8179500000000003\n"
     ]
    }
   ],
   "source": [
    "# Your code here\n",
    "# https://machinelearningmastery.com/tutorial-to-implement-k-nearest-neighbors-in-python-from-scratch/\n",
    "# https://stackoverflow.com/questions/33511259/finding-majority-votes-on-1s-1s-and-0s-in-list-python\n",
    "# https://www.programiz.com/python-programming/methods/list/index\n",
    "\n",
    "from sklearn.neighbors import KNeighborsClassifier\n",
    "from math import sqrt\n",
    "from collections import Counter\n",
    "from statistics import mode, StatisticsError\n",
    "\n",
    "# calculate the Euclidean distance between two vectors\n",
    "def euclidean_distance(row1, row2):\n",
    "    distance = 0.0\n",
    "    for i in range(len(row1)-1):\n",
    "        distance += (float(row1[i]) - float(row2[i]))**2\n",
    "    return sqrt(distance)\n",
    " \n",
    "# Locate the most similar neighbors\n",
    "def get_distances(train, test_row):\n",
    "    distances = list()\n",
    "    for train_row in train:\n",
    "        dist = euclidean_distance(test_row, train_row)\n",
    "        distances.append((train_row, dist))\n",
    "    distances.sort(key=lambda tup: tup[1])\n",
    "    return distances\n",
    "\n",
    "def find_majority(votes):\n",
    "    try:\n",
    "        return mode(votes)\n",
    "    except StatisticsError:\n",
    "        return 0\n",
    "\n",
    "test_row = training_data_2000[0]\n",
    "distances = get_distances(training_data_2000, test_row)\n",
    "count = 0\n",
    "votes = []\n",
    "final = []\n",
    "index = 0\n",
    "count_changes = 0\n",
    "while index < len(distances):\n",
    "    if count < 5: # nearest neighbor\n",
    "        votes.append(distances[index][0][2])\n",
    "        count += 1\n",
    "        index += 1\n",
    "    else:\n",
    "        append_index = index\n",
    "        if find_majority(votes) == '-1':\n",
    "            if '+1' in votes:\n",
    "                count_changes+=1\n",
    "                distances[append_index-5][0][2] = '-1'\n",
    "                distances[append_index-4][0][2] = '-1'\n",
    "                distances[append_index-3][0][2] = '-1'\n",
    "                distances[append_index-2][0][2] = '-1'\n",
    "                distances[append_index-1][0][2] = '-1'\n",
    "                \n",
    "        elif find_majority(votes) == '+1':\n",
    "            if '-1' in votes:\n",
    "                count_changes+=1\n",
    "                distances[append_index-5][0][2] = '+1'\n",
    "                distances[append_index-4][0][2] = '+1'\n",
    "                distances[append_index-3][0][2] = '+1'\n",
    "                distances[append_index-2][0][2] = '+1'\n",
    "                distances[append_index-1][0][2] = '+1'\n",
    "        else:\n",
    "            continue # it is a tie\n",
    "        final.append(distances[append_index-5][0])\n",
    "        final.append(distances[append_index-4][0])\n",
    "        final.append(distances[append_index-3][0])\n",
    "        final.append(distances[append_index-2][0])\n",
    "        final.append(distances[append_index-1][0])      \n",
    "        count = 0\n",
    "        votes = []\n",
    "        \n",
    "train_clean = np.array(final, dtype=str)\n",
    "print(count_changes)\n",
    "X = train_clean[:,0:2]\n",
    "y = train_clean[:,2]\n",
    "X_train, y_train = X, y\n",
    "model = SVC(kernel='rbf', probability=True, C=1, gamma=0.01)\n",
    "model.fit(X_train, y_train)\n",
    "y_pred = model.predict(X_test)\n",
    "summation = 0\n",
    "for i in range(19):\n",
    "    summation += accuracy_score(y_test,y_pred)\n",
    "b = summation/20\n",
    "print(\"a: \",a)\n",
    "print(\"b: \",b)\n",
    "\n",
    "# observation\n",
    "###############\n",
    "# I noticed that the accuracy increased by around 3-5% from 1a"
   ]
  },
  {
   "cell_type": "markdown",
   "id": "9879b04d",
   "metadata": {},
   "source": [
    "## (c -- 20 pts) Open question\n",
    "\n",
    "- Try using **clustering (i.e., K-means, EM-clustering)** to correct wrong labels before training. \n",
    "\n",
    "- Then train the model with the newly processed training dataset. \n",
    "\n",
    "- Report the accuracy on the testing dataset in the noise parameter setting. Do you observe performance improvement?"
   ]
  },
  {
   "cell_type": "code",
   "execution_count": 187,
   "id": "b86f9e50",
   "metadata": {},
   "outputs": [
    {
     "name": "stdout",
     "output_type": "stream",
     "text": [
      "a:  0.7728249999999999\n",
      "b:  0.8179500000000003\n",
      "c:  0.8189\n"
     ]
    }
   ],
   "source": [
    "# Your code here\n",
    "# https://flothesof.github.io/k-means-numpy.html\n",
    "\n",
    "def initialize_centroids(points, k):\n",
    "    \"\"\"returns k centroids from the initial points\"\"\"\n",
    "    centroids = points.copy()\n",
    "    np.random.shuffle(centroids)\n",
    "    return centroids[:k]\n",
    "def get_distances(train, centroids):\n",
    "    distances = list()\n",
    "    i = len(centroids)\n",
    "    for a in range(i):\n",
    "        for train_row in train:\n",
    "            dist = euclidean_distance(centroids[a], train_row)\n",
    "            distances.append((train_row, dist))\n",
    "        distances.sort(key=lambda tup: tup[1])\n",
    "        return distances\n",
    "\n",
    "k = 2\n",
    "centroids = initialize_centroids(training_data_2000, k)\n",
    "distances = get_distances(training_data_2000, centroids)\n",
    "\n",
    "final2 = []\n",
    "votes = []\n",
    "x = 0\n",
    "while x < len(distances):\n",
    "    for i in range(i,i+5):\n",
    "        votes.append(distances[i][0][2])\n",
    "    if find_majority(votes) == '-1':\n",
    "        if '+1' in votes:\n",
    "            count_changes+=1\n",
    "            for i in range(3):\n",
    "                distances[i][0][2] = '-1'\n",
    "    elif find_majority(votes) == '+1':\n",
    "        if '-1' in votes:\n",
    "            count_changes+=1\n",
    "            for i in range(3):\n",
    "                distances[i][0][2] = '+1'\n",
    "        votes = []\n",
    "    x += 1\n",
    "temp = []\n",
    "for i in range(len(distances)):\n",
    "    temp.append(distances[i][0])\n",
    "    \n",
    "train_clean = np.array(temp, dtype=str)\n",
    "X = train_clean[:,0:2]\n",
    "y = train_clean[:,2]\n",
    "# X_train, y_train = shuffle(X, y, random_state=0)\n",
    "X_train, y_train = X, y\n",
    "model = SVC(kernel='rbf', probability=True, C=1, gamma=0.01)\n",
    "model.fit(X_train, y_train)\n",
    "y_pred = model.predict(X_test)\n",
    "summation = 0\n",
    "for i in range(19):\n",
    "    summation += accuracy_score(y_test,y_pred)\n",
    "c = summation/20\n",
    "print(\"a: \",a)\n",
    "print(\"b: \",b)\n",
    "print(\"c: \",c)\n",
    "\n",
    "# observation\n",
    "###############\n",
    "# I noticed that the accuracy almost matches what's in KNN in 1b"
   ]
  },
  {
   "cell_type": "markdown",
   "id": "9a2ce280",
   "metadata": {},
   "source": [
    "# Question 2. (Binary Image Classification, 40 pts + 10 pts bonus)\n",
    "\n",
    "In this question, you will perform a binary image classification task with scikit-learn implemented models. Your will see the improtance of a powerful feature extractor. Meanwhile, you will learn to perform hypyer-parameter tunning and select machine learning models with scikit-learn. Please **do not** use deep learning models for training use in this question."
   ]
  },
  {
   "cell_type": "markdown",
   "id": "tamil-consistency",
   "metadata": {},
   "source": [
    "#### Import/Install required packages (i.e., [Pillow](https://pillow.readthedocs.io/en/latest/installation.html))"
   ]
  },
  {
   "cell_type": "code",
   "execution_count": 188,
   "id": "persistent-accessory",
   "metadata": {},
   "outputs": [],
   "source": [
    "# Import libraries\n",
    "import os\n",
    "from os.path import join\n",
    "import pandas as pd\n",
    "import numpy as np\n",
    "import matplotlib.pyplot as plt\n",
    "import warnings\n",
    "warnings.filterwarnings(\"ignore\")\n",
    "from PIL import Image\n",
    "from sklearn.utils import shuffle\n",
    "from sklearn.metrics import accuracy_score\n",
    "from sklearn.metrics import confusion_matrix"
   ]
  },
  {
   "cell_type": "markdown",
   "id": "constant-phase",
   "metadata": {},
   "source": [
    "#### Data preprocessing"
   ]
  },
  {
   "cell_type": "code",
   "execution_count": 189,
   "id": "veterinary-liberal",
   "metadata": {},
   "outputs": [],
   "source": [
    "# A help function which appends the path list for train and test image folder\n",
    "def get_path(is_train=True):\n",
    "    if is_train:\n",
    "        directory = \"train\"\n",
    "    else:\n",
    "        directory = \"test\"\n",
    "\n",
    "    # Append the image path to a list for imgaes that contain a hotdog    \n",
    "    hot_dog_image_dir = f'./{directory}/hot_dog'\n",
    "    hot_dog_paths = [join(hot_dog_image_dir,filename) for filename in os.listdir(hot_dog_image_dir)]\n",
    "\n",
    "    # Append the image path to a list for imgaes that don't contain a hotdog   \n",
    "    not_hot_dog_image_dir = f'./{directory}/not_hot_dog'\n",
    "    not_hot_dog_paths = [join(not_hot_dog_image_dir, filename) for filename in os.listdir(not_hot_dog_image_dir)]\n",
    "\n",
    "    img_paths = hot_dog_paths + not_hot_dog_paths\n",
    "    \n",
    "    # Return the unshuffled image paths\n",
    "    return img_paths"
   ]
  },
  {
   "cell_type": "code",
   "execution_count": 190,
   "id": "applicable-auction",
   "metadata": {
    "tags": []
   },
   "outputs": [
    {
     "name": "stdout",
     "output_type": "stream",
     "text": [
      "There are 498 train images and 500 test images.\n"
     ]
    }
   ],
   "source": [
    "# Show how many figures contained in the train and test dataset\n",
    "print(f\"There are {len(get_path())} train images and {len(get_path(is_train=False))} test images.\")"
   ]
  },
  {
   "cell_type": "markdown",
   "id": "narrative-street",
   "metadata": {},
   "source": [
    "Take a look at a few randomly selected example images we will deal with."
   ]
  },
  {
   "cell_type": "code",
   "execution_count": 191,
   "id": "dense-america",
   "metadata": {
    "tags": []
   },
   "outputs": [
    {
     "name": "stdout",
     "output_type": "stream",
     "text": [
      "[204, 242, 369, 135, 145, 268, 365, 297, 214, 70]\n"
     ]
    },
    {
     "data": {
      "image/png": "[encoded data removed]",
      "text/plain": [
       "<Figure size 432x288 with 10 Axes>"
      ]
     },
     "metadata": {
      "needs_background": "light"
     },
     "output_type": "display_data"
    }
   ],
   "source": [
    "import random \n",
    "\n",
    "fig,ax = plt.subplots(2,5)\n",
    "index_list = [random.randrange(1, len(get_path()), 1) for i in range(10)]\n",
    "print(index_list)\n",
    "train_paths = get_path()\n",
    "\n",
    "filenames=[train_paths[idx] for idx in index_list] \n",
    "for i in range(10):\n",
    "    with open(filenames[i],'rb') as f:\n",
    "        image=Image.open(f)\n",
    "        ax[i%2][i//2].imshow(image)\n",
    "        ax[i%2][i//2].axis('off')\n",
    "fig.show()"
   ]
  },
  {
   "cell_type": "markdown",
   "id": "69c47535",
   "metadata": {},
   "source": [
    "#### The images may have different shape/size."
   ]
  },
  {
   "cell_type": "code",
   "execution_count": 192,
   "id": "russian-milan",
   "metadata": {
    "tags": []
   },
   "outputs": [
    {
     "name": "stdout",
     "output_type": "stream",
     "text": [
      "(200, 200, 3)\n"
     ]
    }
   ],
   "source": [
    "# See the shape of an image\n",
    "sample_img = Image.open(train_paths[1])\n",
    "print(np.array(sample_img).shape)"
   ]
  },
  {
   "cell_type": "markdown",
   "id": "still-metadata",
   "metadata": {},
   "source": [
    "#### Standard PCA methods implemented in Scikit-learn do not work for color imgaes (RGB), so we will transform the images into greyscale."
   ]
  },
  {
   "cell_type": "code",
   "execution_count": 193,
   "id": "wrong-radius",
   "metadata": {},
   "outputs": [],
   "source": [
    "import matplotlib\n",
    "\n",
    "# Transform color images to greyscale\n",
    "def rgb2gray(rgb_img):\n",
    "    return np.dot(rgb_img[...,:3], [0.2989, 0.5870, 0.1140])\n",
    "\n",
    "# Given the image path, return the resized image as an numpy 2d array\n",
    "def get_image(path):\n",
    "    img = Image.open(path)\n",
    "    img = img.resize((200,200))\n",
    "    img.save(path)\n",
    "    img = matplotlib.image.imread(path)\n",
    "    gray = rgb2gray(img)  \n",
    "    return np.array(gray)"
   ]
  },
  {
   "cell_type": "code",
   "execution_count": 194,
   "id": "lesbian-profit",
   "metadata": {
    "tags": []
   },
   "outputs": [
    {
     "name": "stdout",
     "output_type": "stream",
     "text": [
      "(200, 200)\n"
     ]
    }
   ],
   "source": [
    "print(get_image(train_paths[1]).shape)"
   ]
  },
  {
   "cell_type": "markdown",
   "id": "buried-avenue",
   "metadata": {},
   "source": [
    "#### Append image data and labels in to list"
   ]
  },
  {
   "cell_type": "code",
   "execution_count": 195,
   "id": "opposed-greeting",
   "metadata": {
    "tags": []
   },
   "outputs": [
    {
     "name": "stdout",
     "output_type": "stream",
     "text": [
      "The shape of the training data is (498, 40000)\n"
     ]
    }
   ],
   "source": [
    "# Prepare the raw data: geryscale, train images and train labels\n",
    "h, w = get_image(train_paths[1]).shape\n",
    "train_data = np.empty((len(train_paths), h, w))\n",
    "train_label = [1] * np.int(len(train_paths)/2) + [0] * np.int(len(train_paths)/2)\n",
    "count = -1\n",
    "for pth in train_paths:\n",
    "    count += 1\n",
    "    image = get_image(pth)\n",
    "    train_data[count] = image\n",
    "n_samples = train_data.shape[0]\n",
    "X = np.empty((n_samples, h * w))\n",
    "for i in range(n_samples):\n",
    "    X[i] = train_data[i].flatten()\n",
    "y = train_label\n",
    "print(f\"The shape of the training data is {X.shape}\")"
   ]
  },
  {
   "cell_type": "markdown",
   "id": "9e04f4ba",
   "metadata": {},
   "source": [
    "#### Prepare the raw test data"
   ]
  },
  {
   "cell_type": "code",
   "execution_count": 196,
   "id": "bc349b90",
   "metadata": {
    "tags": []
   },
   "outputs": [
    {
     "name": "stdout",
     "output_type": "stream",
     "text": [
      "The shape of the test data is (500, 40000)\n"
     ]
    }
   ],
   "source": [
    "test_paths = get_path(is_train=False)\n",
    "\n",
    "\n",
    "# Prepare the raw dataframe: geryscale, test images and test labels\n",
    "test_data = np.empty((len(test_paths), h, w))\n",
    "test_label = [1] * np.int(len(test_paths)/2) + [0] * np.int(len(test_paths)/2)\n",
    "count = -1\n",
    "for pth in test_paths:\n",
    "    count += 1\n",
    "    image = get_image(pth)\n",
    "    test_data[count] = image\n",
    "X_test = np.empty((len(test_paths), h * w))\n",
    "for i in range(n_samples):\n",
    "    X_test[i] = test_data[i].flatten()\n",
    "y_test = test_label\n",
    "print(f\"The shape of the test data is {X_test.shape}\")"
   ]
  },
  {
   "cell_type": "markdown",
   "id": "f2fe7c53",
   "metadata": {},
   "source": [
    "#### Shuffle the training dataset"
   ]
  },
  {
   "cell_type": "code",
   "execution_count": 197,
   "id": "30c4c9cf",
   "metadata": {},
   "outputs": [
    {
     "name": "stdout",
     "output_type": "stream",
     "text": [
      "The shape of the training data is (498, 40000)\n"
     ]
    }
   ],
   "source": [
    "# Shuffle the training dataset\n",
    "from sklearn.utils import shuffle\n",
    "X_train, y_train = shuffle(X, y, random_state=0)\n",
    "X_train\n",
    "print(f\"The shape of the training data is {X.shape}\")"
   ]
  },
  {
   "cell_type": "code",
   "execution_count": 198,
   "id": "static-danger",
   "metadata": {},
   "outputs": [],
   "source": [
    "# Import additional libaries\n",
    "from sklearn.decomposition import PCA\n",
    "from sklearn.svm import SVC\n",
    "from sklearn import svm"
   ]
  },
  {
   "cell_type": "markdown",
   "id": "cd320402",
   "metadata": {},
   "source": [
    "## Question 2.1 Reducing the dimensions (feature extraction) -- 15 pts\n",
    "\n",
    "In this question, you will need to use a dimensionality reduction (feature extraction) method to project both <code>X_train</code> and <code>X_test</code> on a lower dimensions. Otherwise, training directly on the raw images will consume you a long time."
   ]
  },
  {
   "cell_type": "code",
   "execution_count": 199,
   "id": "e46f6f56",
   "metadata": {},
   "outputs": [
    {
     "name": "stderr",
     "output_type": "stream",
     "text": [
      "100%|██████████| 5/5 [00:52<00:00, 10.49s/it]\n",
      "100%|██████████| 5/5 [00:51<00:00, 10.34s/it]\n"
     ]
    }
   ],
   "source": [
    "#### Your code here\n",
    "# https://github.com/openai/CLIP\n",
    "import torch\n",
    "import clip\n",
    "from PIL import Image\n",
    "from torchvision import datasets\n",
    "from tqdm import tqdm\n",
    "from torch.utils.data import DataLoader\n",
    "# load the model\n",
    "device = \"cuda\" if torch.cuda.is_available() else \"cpu\"\n",
    "model, preprocess = clip.load(\"ViT-B/32\", device=device)\n",
    "# load the dataset\n",
    "root_train = os.path.expanduser(\"./train/\")\n",
    "root_test = os.path.expanduser(\"./test/\")\n",
    "train = datasets.ImageFolder(root_train, transform=preprocess)\n",
    "test = datasets.ImageFolder(root_test, transform=preprocess)\n",
    "\n",
    "def get_features(dataset):\n",
    "    all_features = []\n",
    "    all_labels = []\n",
    "    \n",
    "    with torch.no_grad():\n",
    "        for images, labels in tqdm(DataLoader(dataset, batch_size=100)):\n",
    "            features = model.encode_image(images.to(device))\n",
    "\n",
    "            all_features.append(features)\n",
    "            all_labels.append(labels)\n",
    "\n",
    "    return torch.cat(all_features).cpu().numpy(), torch.cat(all_labels).cpu().numpy()\n",
    "\n",
    "# Calculate the image features\n",
    "train_features, train_labels = get_features(train)\n",
    "test_features, test_labels = get_features(test)"
   ]
  },
  {
   "cell_type": "markdown",
   "id": "16ddd4a1",
   "metadata": {},
   "source": [
    "## Question 2.2 Binary Image Classification -- 15 pts\n",
    "\n",
    "In this question, you will need to find the most suitable machine learning models (as well as hyper-parameters) implemented in <code>Scikit-learn</code>, for example, fit on the projected training data and labels, then predict on the projected test data. The accuracy score determines the accuracy your model prediction.\n",
    "\n",
    "**Hint:** here are some links for implemented machine learning models in Scikit-learn.\n",
    "\n",
    "- SVM: [link](https://scikit-learn.org/stable/modules/svm.html)\n",
    "\n",
    "- Gaussian Naive Bayes: [link](https://scikit-learn.org/stable/modules/generated/sklearn.naive_bayes.GaussianNB.html#sklearn.naive_bayes.GaussianNB)\n",
    "\n",
    "- A toy example about classifier comparisons: [link](https://scikit-learn.org/stable/auto_examples/classification/plot_classifier_comparison.html#sphx-glr-auto-examples-classification-plot-classifier-comparison-py)\n",
    "\n",
    "- If you are unsure about hyperparameter selection, you may find [grid-search](https://scikit-learn.org/stable/modules/grid_search.html#exhaustive-grid-search) helpful.\n",
    "\n",
    "- To achieve a high accuracy score, simply adopting PCA for feature extraction may not work. You may need to find some advanced feature extractor to reach a much better performance, i.e., >80%.\n"
   ]
  },
  {
   "cell_type": "code",
   "execution_count": 204,
   "id": "68a8eb1d",
   "metadata": {},
   "outputs": [
    {
     "name": "stdout",
     "output_type": "stream",
     "text": [
      "Accuracy: 0.98\n"
     ]
    }
   ],
   "source": [
    "# Your code here\n",
    "classifier = svm.SVC(kernel='rbf', gamma='auto', C=18)\n",
    "classifier.fit(train_features, train_labels)\n",
    "y_pred= classifier.predict(test_features)\n",
    "\n",
    "# Evaluation (suppose your model prediction on X_test is y_pred)\n",
    "print(f\"Accuracy: {accuracy_score(test_labels, y_pred)}\")\n",
    "\n",
    "\n",
    "# observation\n",
    "###############\n",
    "# I noticed that feature extraction using PCA doesn't give more than 53% accuracy\n",
    "# although I have tried differet kernal methods of SVC and different values of gamma and C\n",
    "# Using CLIP easily gave me ~97% accuracy and with a little bit of gamma and C changes\n",
    "# I got 98% accuracy!"
   ]
  },
  {
   "cell_type": "markdown",
   "id": "eeb38a58",
   "metadata": {},
   "source": [
    "## Leaderboard\n",
    "\n",
    "Depending on your best achieved accuracy score, the remaining points and bonus points are organized as below:\n",
    "\n",
    "- **Accuracy score > 98%:** 10 pts + **10 bonus pts**\n",
    "\n",
    "- **Accuracy score 96-98%:** 10 pts + **8 bonus pts**\n",
    "\n",
    "- **Accuracy score 94-96%:** 10 pts + **6 bonus pts**\n",
    "\n",
    "- **Accuracy score 92-94%:** 10 pts + **4 bonus pts**\n",
    "\n",
    "- **Accuracy score 90-92%:** 10 pts + **2 bonus pts**\n",
    "\n",
    "- **Accuracy score 80-90%:** 10 pts\n",
    "\n",
    "- **Accuracy score 70-80%:** 8 pts\n",
    "\n",
    "- **Accuracy score 61-70%:** 6 pts\n",
    "\n",
    "- **Accuracy score 58-61%:** 4 pts\n",
    "\n",
    "- **Accuracy score 55-58%:** 2 pts\n",
    "\n",
    "- **Accuracy score < 55%:** 0 pts \n"
   ]
  }
 ],
 "metadata": {
  "kernelspec": {
   "display_name": "Python 3",
   "language": "python",
   "name": "python3"
  },
  "language_info": {
   "codemirror_mode": {
    "name": "ipython",
    "version": 3
   },
   "file_extension": ".py",
   "mimetype": "text/x-python",
   "name": "python",
   "nbconvert_exporter": "python",
   "pygments_lexer": "ipython3",
   "version": "3.8.5"
  }
 },
 "nbformat": 4,
 "nbformat_minor": 5
}
