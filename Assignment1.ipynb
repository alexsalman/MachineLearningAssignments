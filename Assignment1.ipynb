{
 "cells": [
  {
   "cell_type": "markdown",
   "id": "flexible-nickname",
   "metadata": {},
   "source": [
    "\n",
    "<h1 align=\"center\"> CSE 242 Assignment 1, Fall 2021\n"
   ]
  },
  {
   "cell_type": "markdown",
   "id": "republican-credit",
   "metadata": {},
   "source": [
    "\n",
    "<h2 align=\"center\"> 4 Questions, 100 pts, due: 23:59 pm, Oct 12th, 2021\n",
    "    \n",
    "    Your name: Alex Salman         Student ID: "
   ]
  },
  {
   "cell_type": "markdown",
   "id": "backed-grain",
   "metadata": {},
   "source": [
    "## Instruction \n",
    "\n",
    "- Submit your assignments onto **Gradescope** by the due date. Upload a <code>zip</code> file containing:\n",
    "\n",
    "    (1) The saved/latest <code>.ipynb</code> file.\n",
    "    \n",
    "    (2) All other materials to make your <code>.ipynb</code> file runnable.\n",
    "    \n",
    "    \n",
    "- This is an **individual** assignment. All help from others (from the web, books other than text, or people other than the TA or instructor) must be clearly acknowledged. \n",
    "- Most coding parts can be finished with only 1-2 lines of codes.\n",
    "- Make sure you have installed required packages: <code>pandas, seaborn, matplotlib</code>\n",
    "\n",
    "## Objective \n",
    "\n",
    "- **Task 1:** Review of **Probability**\n",
    "- **Task 2:** Getting familiar with **Pandas** and **Seaborn/Matplotlib**"
   ]
  },
  {
   "cell_type": "markdown",
   "id": "obvious-removal",
   "metadata": {},
   "source": [
    "# Question 1 (Conditional probability, 10 pts) \n",
    "\n",
    "Assume that the conditional probability of an email (chosen uniformly and randomly from a set of emails) containing the word “payment”, given that the email is a spam email, is $72\\%$. Suppose that the conditional probability of an email being spam, given that it contains the word “payment”, is $8\\%$. Find the ratio of the probability that an email is spam to the probability that an email contains the word “payment”."
   ]
  },
  {
   "cell_type": "markdown",
   "id": "diagnostic-racing",
   "metadata": {},
   "source": [
    "**Solution:**\n"
   ]
  },
  {
   "cell_type": "markdown",
   "id": "initial-spencer",
   "metadata": {},
   "source": [
    "**If you are not familair with Latex, you may attach a figure/screen-shoot and display the code below.**"
   ]
  },
  {
   "cell_type": "code",
   "execution_count": 1,
   "id": "handy-compound",
   "metadata": {},
   "outputs": [
    {
     "data": {
      "image/png": "[encoded data removed]",
      "text/plain": [
       "<IPython.core.display.Image object>"
      ]
     },
     "execution_count": 1,
     "metadata": {},
     "output_type": "execute_result"
    }
   ],
   "source": [
    "from IPython.display import Image\n",
    "# Replace the figure name\n",
    "Image(filename='sample.png')"
   ]
  },
  {
   "cell_type": "markdown",
   "id": "extraordinary-cedar",
   "metadata": {},
   "source": [
    "# Question 2 (Expectation and variance, 30 pts) \n",
    "\n",
    "Suppose that $X_1, ..., X_n$ are independent random variables with the same distribution. \n",
    "\n",
    "**(a --15 pts):** Denote the mean of $X_i$ as $\\mathbf{E}[X_1]$, find the mean of \n",
    "$$\\dfrac{X_1+\\cdot \\cdot \\cdot+ X_n}{n}.$$\n",
    "\n",
    "**(b --15 pts):** Denote the variance of $X_i$ as $\\text{Var}[X_1]$, find the variance of \n",
    "$$\\dfrac{X_1+\\cdot \\cdot \\cdot+ X_n}{n}.$$"
   ]
  },
  {
   "cell_type": "markdown",
   "id": "shaped-bibliography",
   "metadata": {},
   "source": [
    "**Solution (a)**:\n",
    "\n",
    "**Solution (b)**:"
   ]
  },
  {
   "cell_type": "markdown",
   "id": "informational-piece",
   "metadata": {},
   "source": [
    "**If you are not familair with Latex, you may attach a figure/screen-shoot and display the code below.**"
   ]
  },
  {
   "cell_type": "code",
   "execution_count": 2,
   "id": "manufactured-running",
   "metadata": {},
   "outputs": [
    {
     "data": {
      "image/png": "[encoded data removed]",
      "text/plain": [
       "<IPython.core.display.Image object>"
      ]
     },
     "execution_count": 2,
     "metadata": {},
     "output_type": "execute_result"
    }
   ],
   "source": [
    "# Replace the figure name\n",
    "from IPython.display import Image\n",
    "Image(filename='sample.png') "
   ]
  },
  {
   "cell_type": "markdown",
   "id": "laden-musical",
   "metadata": {},
   "source": [
    "# Question 3 (Pandas, 25 pts)\n",
    "In this question, you will be using **Pandas** to apply exploratory data analysis of a Covid-19 dataset (from **The New York Times**)."
   ]
  },
  {
   "cell_type": "markdown",
   "id": "proper-notification",
   "metadata": {},
   "source": [
    "If you have not installed the required packages, please refer to the **lab session material** for instructions."
   ]
  },
  {
   "cell_type": "markdown",
   "id": "amazing-horse",
   "metadata": {},
   "source": [
    "### Reading data using Pandas"
   ]
  },
  {
   "cell_type": "code",
   "execution_count": 3,
   "id": "fitted-stranger",
   "metadata": {},
   "outputs": [
    {
     "data": {
      "text/html": [
       "<div>\n",
       "<style scoped>\n",
       "    .dataframe tbody tr th:only-of-type {\n",
       "        vertical-align: middle;\n",
       "    }\n",
       "\n",
       "    .dataframe tbody tr th {\n",
       "        vertical-align: top;\n",
       "    }\n",
       "\n",
       "    .dataframe thead th {\n",
       "        text-align: right;\n",
       "    }\n",
       "</style>\n",
       "<table border=\"1\" class=\"dataframe\">\n",
       "  <thead>\n",
       "    <tr style=\"text-align: right;\">\n",
       "      <th></th>\n",
       "      <th>date</th>\n",
       "      <th>state</th>\n",
       "      <th>cases</th>\n",
       "      <th>deaths</th>\n",
       "    </tr>\n",
       "  </thead>\n",
       "  <tbody>\n",
       "    <tr>\n",
       "      <th>0</th>\n",
       "      <td>1/21/20</td>\n",
       "      <td>Washington</td>\n",
       "      <td>1</td>\n",
       "      <td>0</td>\n",
       "    </tr>\n",
       "    <tr>\n",
       "      <th>1</th>\n",
       "      <td>1/22/20</td>\n",
       "      <td>Washington</td>\n",
       "      <td>1</td>\n",
       "      <td>0</td>\n",
       "    </tr>\n",
       "    <tr>\n",
       "      <th>2</th>\n",
       "      <td>1/23/20</td>\n",
       "      <td>Washington</td>\n",
       "      <td>1</td>\n",
       "      <td>0</td>\n",
       "    </tr>\n",
       "  </tbody>\n",
       "</table>\n",
       "</div>"
      ],
      "text/plain": [
       "      date       state  cases  deaths\n",
       "0  1/21/20  Washington      1       0\n",
       "1  1/22/20  Washington      1       0\n",
       "2  1/23/20  Washington      1       0"
      ]
     },
     "execution_count": 3,
     "metadata": {},
     "output_type": "execute_result"
    }
   ],
   "source": [
    "# Read the dataset you will be working on\n",
    "# The dataframe loaded with pandas is named as data\n",
    "import pandas as pd\n",
    "data = pd.read_csv('covid_19.csv')\n",
    "\n",
    "# Take a look at the first 3 rows\n",
    "data.head(3)"
   ]
  },
  {
   "cell_type": "markdown",
   "id": "speaking-entrepreneur",
   "metadata": {},
   "source": [
    "## Question 3.1 (Get the shape of data, 5 pts)\n",
    "**Print the number of rows and columns of the dataframe \"data\"**"
   ]
  },
  {
   "cell_type": "code",
   "execution_count": 4,
   "id": "finished-gateway",
   "metadata": {},
   "outputs": [
    {
     "data": {
      "text/plain": [
       "(31089, 4)"
      ]
     },
     "execution_count": 4,
     "metadata": {},
     "output_type": "execute_result"
    }
   ],
   "source": [
    "################# Your answer for Question 3.1   #################\n",
    "\n",
    "################# Your code here #################\n",
    "data.shape"
   ]
  },
  {
   "cell_type": "markdown",
   "id": "patent-fetish",
   "metadata": {},
   "source": [
    "### Data information"
   ]
  },
  {
   "cell_type": "markdown",
   "id": "average-inclusion",
   "metadata": {},
   "source": [
    "In Pandas, there are many summary functions which contain statistics as well as other data information. The name of the columns are:"
   ]
  },
  {
   "cell_type": "code",
   "execution_count": 5,
   "id": "different-nevada",
   "metadata": {},
   "outputs": [
    {
     "data": {
      "text/plain": [
       "Index(['date', 'state', 'cases', 'deaths'], dtype='object')"
      ]
     },
     "execution_count": 5,
     "metadata": {},
     "output_type": "execute_result"
    }
   ],
   "source": [
    "data.columns"
   ]
  },
  {
   "cell_type": "markdown",
   "id": "random-empty",
   "metadata": {},
   "source": [
    "**A brief summary of the dataset information:** \n",
    "\n",
    "**mean:** Mean of the values.\n",
    "\n",
    "**std:** Standard deviation of the observations.\n",
    "\n",
    "**25%:** The lower percentile.\n",
    "\n",
    "**75%:** The upper percentile.\n",
    "\n",
    "You may use <code>.describe()</code> to get a brief summary of the dataframe information."
   ]
  },
  {
   "cell_type": "code",
   "execution_count": 6,
   "id": "alert-treasurer",
   "metadata": {},
   "outputs": [
    {
     "data": {
      "text/html": [
       "<div>\n",
       "<style scoped>\n",
       "    .dataframe tbody tr th:only-of-type {\n",
       "        vertical-align: middle;\n",
       "    }\n",
       "\n",
       "    .dataframe tbody tr th {\n",
       "        vertical-align: top;\n",
       "    }\n",
       "\n",
       "    .dataframe thead th {\n",
       "        text-align: right;\n",
       "    }\n",
       "</style>\n",
       "<table border=\"1\" class=\"dataframe\">\n",
       "  <thead>\n",
       "    <tr style=\"text-align: right;\">\n",
       "      <th></th>\n",
       "      <th>cases</th>\n",
       "      <th>deaths</th>\n",
       "    </tr>\n",
       "  </thead>\n",
       "  <tbody>\n",
       "    <tr>\n",
       "      <th>count</th>\n",
       "      <td>3.108900e+04</td>\n",
       "      <td>31089.000000</td>\n",
       "    </tr>\n",
       "    <tr>\n",
       "      <th>mean</th>\n",
       "      <td>3.235684e+05</td>\n",
       "      <td>6171.822413</td>\n",
       "    </tr>\n",
       "    <tr>\n",
       "      <th>std</th>\n",
       "      <td>5.600332e+05</td>\n",
       "      <td>10224.348148</td>\n",
       "    </tr>\n",
       "    <tr>\n",
       "      <th>min</th>\n",
       "      <td>1.000000e+00</td>\n",
       "      <td>0.000000</td>\n",
       "    </tr>\n",
       "    <tr>\n",
       "      <th>25%</th>\n",
       "      <td>1.670600e+04</td>\n",
       "      <td>362.000000</td>\n",
       "    </tr>\n",
       "    <tr>\n",
       "      <th>50%</th>\n",
       "      <td>1.108810e+05</td>\n",
       "      <td>2075.000000</td>\n",
       "    </tr>\n",
       "    <tr>\n",
       "      <th>75%</th>\n",
       "      <td>4.098610e+05</td>\n",
       "      <td>7360.000000</td>\n",
       "    </tr>\n",
       "    <tr>\n",
       "      <th>max</th>\n",
       "      <td>4.647180e+06</td>\n",
       "      <td>68034.000000</td>\n",
       "    </tr>\n",
       "  </tbody>\n",
       "</table>\n",
       "</div>"
      ],
      "text/plain": [
       "              cases        deaths\n",
       "count  3.108900e+04  31089.000000\n",
       "mean   3.235684e+05   6171.822413\n",
       "std    5.600332e+05  10224.348148\n",
       "min    1.000000e+00      0.000000\n",
       "25%    1.670600e+04    362.000000\n",
       "50%    1.108810e+05   2075.000000\n",
       "75%    4.098610e+05   7360.000000\n",
       "max    4.647180e+06  68034.000000"
      ]
     },
     "execution_count": 6,
     "metadata": {},
     "output_type": "execute_result"
    }
   ],
   "source": [
    "data.describe()"
   ]
  },
  {
   "cell_type": "markdown",
   "id": "designed-gilbert",
   "metadata": {},
   "source": [
    "To show the summarized information of a variable (i.e., the variable \"deaths\"):"
   ]
  },
  {
   "cell_type": "code",
   "execution_count": 7,
   "id": "empirical-apparel",
   "metadata": {},
   "outputs": [
    {
     "data": {
      "text/plain": [
       "count    31089.000000\n",
       "mean      6171.822413\n",
       "std      10224.348148\n",
       "min          0.000000\n",
       "25%        362.000000\n",
       "50%       2075.000000\n",
       "75%       7360.000000\n",
       "max      68034.000000\n",
       "Name: deaths, dtype: float64"
      ]
     },
     "execution_count": 7,
     "metadata": {},
     "output_type": "execute_result"
    }
   ],
   "source": [
    "# We can access a certain variable (\"deaths\") of the dataframe ('data') simply through data.deaths\n",
    "data.deaths.describe()"
   ]
  },
  {
   "cell_type": "markdown",
   "id": "afraid-committee",
   "metadata": {},
   "source": [
    "### Missing values and data types"
   ]
  },
  {
   "cell_type": "markdown",
   "id": "sonic-liverpool",
   "metadata": {},
   "source": [
    "Entries with missing values are usually assigned with the value **NaN** (\"Not a Number\"), and the datatype is float64 dtype."
   ]
  },
  {
   "cell_type": "markdown",
   "id": "nearby-casino",
   "metadata": {},
   "source": [
    "## Question 3.2 (Check missing values, 5 pts)\n",
    "**Check whether there are missing values in the dataframe: print how many missing values exist in each column.**"
   ]
  },
  {
   "cell_type": "code",
   "execution_count": 8,
   "id": "tough-dominican",
   "metadata": {},
   "outputs": [
    {
     "data": {
      "text/plain": [
       "date      0\n",
       "state     0\n",
       "cases     0\n",
       "deaths    0\n",
       "dtype: int64"
      ]
     },
     "execution_count": 8,
     "metadata": {},
     "output_type": "execute_result"
    }
   ],
   "source": [
    "################# Hint: this dataset does not have empty values #################\n",
    "################# Your answer for Question 3.2   #################\n",
    "\n",
    "################# Your code here #################\n",
    "data.isna().sum()"
   ]
  },
  {
   "cell_type": "markdown",
   "id": "suspected-boundary",
   "metadata": {},
   "source": [
    "### Indexing and slicing"
   ]
  },
  {
   "cell_type": "code",
   "execution_count": 9,
   "id": "plain-council",
   "metadata": {},
   "outputs": [
    {
     "data": {
      "text/plain": [
       "'Illinois'"
      ]
     },
     "execution_count": 9,
     "metadata": {},
     "output_type": "execute_result"
    }
   ],
   "source": [
    "# Get the 10-th row for variable \"State\"\n",
    "data['state'][10]"
   ]
  },
  {
   "cell_type": "markdown",
   "id": "vital-pontiac",
   "metadata": {},
   "source": [
    "Index based selection with <code>iloc</code>: <code>iloc</code> is **row-first**, **column-second**."
   ]
  },
  {
   "cell_type": "code",
   "execution_count": 10,
   "id": "dense-inspection",
   "metadata": {},
   "outputs": [
    {
     "name": "stdout",
     "output_type": "stream",
     "text": [
      "date         1/21/20\n",
      "state     Washington\n",
      "cases              1\n",
      "deaths             0\n",
      "Name: 0, dtype: object\n"
     ]
    }
   ],
   "source": [
    "# The first row of the dataframe\n",
    "print(data.iloc[0])"
   ]
  },
  {
   "cell_type": "code",
   "execution_count": 11,
   "id": "dramatic-smile",
   "metadata": {},
   "outputs": [
    {
     "name": "stdout",
     "output_type": "stream",
     "text": [
      "0        1/21/20\n",
      "1        1/22/20\n",
      "2        1/23/20\n",
      "3        1/24/20\n",
      "4        1/24/20\n",
      "          ...   \n",
      "31084    9/18/21\n",
      "31085    9/18/21\n",
      "31086    9/18/21\n",
      "31087    9/18/21\n",
      "31088    9/18/21\n",
      "Name: date, Length: 31089, dtype: object\n"
     ]
    }
   ],
   "source": [
    "# The first column of the dataframe\n",
    "print(data.iloc[:, 0])"
   ]
  },
  {
   "cell_type": "code",
   "execution_count": 12,
   "id": "frequent-therapy",
   "metadata": {},
   "outputs": [
    {
     "name": "stdout",
     "output_type": "stream",
     "text": [
      "2    1/23/20\n",
      "3    1/24/20\n",
      "4    1/24/20\n",
      "5    1/25/20\n",
      "Name: date, dtype: object\n",
      "2    1/23/20\n",
      "3    1/24/20\n",
      "4    1/24/20\n",
      "5    1/25/20\n",
      "Name: date, dtype: object\n"
     ]
    }
   ],
   "source": [
    "# The first column (and 2nd-5th rows) of the dataframe\n",
    "print(data.iloc[2:6, 0])\n",
    "# or pass a list\n",
    "print(data.iloc[[i+2 for i in range(4)], 0])"
   ]
  },
  {
   "cell_type": "markdown",
   "id": "bibliographic-northeast",
   "metadata": {},
   "source": [
    "## Question 3.3 (Conditional selection, 10 pts)\n",
    "**What are the number of \"cases\" and \"deaths\" for 'California' on '8/21/21'? (print the corresponding row in this dataframe with <code>loc</code>)**"
   ]
  },
  {
   "cell_type": "code",
   "execution_count": 13,
   "id": "southwest-craps",
   "metadata": {},
   "outputs": [
    {
     "data": {
      "text/html": [
       "<div>\n",
       "<style scoped>\n",
       "    .dataframe tbody tr th:only-of-type {\n",
       "        vertical-align: middle;\n",
       "    }\n",
       "\n",
       "    .dataframe tbody tr th {\n",
       "        vertical-align: top;\n",
       "    }\n",
       "\n",
       "    .dataframe thead th {\n",
       "        text-align: right;\n",
       "    }\n",
       "</style>\n",
       "<table border=\"1\" class=\"dataframe\">\n",
       "  <thead>\n",
       "    <tr style=\"text-align: right;\">\n",
       "      <th></th>\n",
       "      <th>cases</th>\n",
       "      <th>deaths</th>\n",
       "    </tr>\n",
       "  </thead>\n",
       "  <tbody>\n",
       "    <tr>\n",
       "      <th>29498</th>\n",
       "      <td>4316350</td>\n",
       "      <td>65082</td>\n",
       "    </tr>\n",
       "  </tbody>\n",
       "</table>\n",
       "</div>"
      ],
      "text/plain": [
       "         cases  deaths\n",
       "29498  4316350   65082"
      ]
     },
     "execution_count": 13,
     "metadata": {},
     "output_type": "execute_result"
    }
   ],
   "source": [
    "################# Your answer for Question 3.3   #################\n",
    "data.loc[(data['state'] == 'California') & (data['date'] == '8/21/21'), ['cases', 'deaths']]\n",
    "################# Your code here (complete the code above) #################"
   ]
  },
  {
   "cell_type": "markdown",
   "id": "studied-cache",
   "metadata": {},
   "source": [
    "## Question 3.4 (Data aggregation, 5 pts)\n",
    "**Add a new column named \"ratio\" (for the dataframe \"data\") which defined as the ratio \"deaths\"/\"cases\" in each row.**"
   ]
  },
  {
   "cell_type": "code",
   "execution_count": 14,
   "id": "completed-cricket",
   "metadata": {},
   "outputs": [
    {
     "data": {
      "text/html": [
       "<div>\n",
       "<style scoped>\n",
       "    .dataframe tbody tr th:only-of-type {\n",
       "        vertical-align: middle;\n",
       "    }\n",
       "\n",
       "    .dataframe tbody tr th {\n",
       "        vertical-align: top;\n",
       "    }\n",
       "\n",
       "    .dataframe thead th {\n",
       "        text-align: right;\n",
       "    }\n",
       "</style>\n",
       "<table border=\"1\" class=\"dataframe\">\n",
       "  <thead>\n",
       "    <tr style=\"text-align: right;\">\n",
       "      <th></th>\n",
       "      <th>date</th>\n",
       "      <th>state</th>\n",
       "      <th>cases</th>\n",
       "      <th>deaths</th>\n",
       "      <th>ratio</th>\n",
       "    </tr>\n",
       "  </thead>\n",
       "  <tbody>\n",
       "    <tr>\n",
       "      <th>31084</th>\n",
       "      <td>9/18/21</td>\n",
       "      <td>Virginia</td>\n",
       "      <td>827197</td>\n",
       "      <td>12242</td>\n",
       "      <td>827197:12242</td>\n",
       "    </tr>\n",
       "    <tr>\n",
       "      <th>31085</th>\n",
       "      <td>9/18/21</td>\n",
       "      <td>Washington</td>\n",
       "      <td>623254</td>\n",
       "      <td>7256</td>\n",
       "      <td>311627:3628</td>\n",
       "    </tr>\n",
       "    <tr>\n",
       "      <th>31086</th>\n",
       "      <td>9/18/21</td>\n",
       "      <td>West Virginia</td>\n",
       "      <td>221513</td>\n",
       "      <td>3370</td>\n",
       "      <td>221513:3370</td>\n",
       "    </tr>\n",
       "    <tr>\n",
       "      <th>31087</th>\n",
       "      <td>9/18/21</td>\n",
       "      <td>Wisconsin</td>\n",
       "      <td>772089</td>\n",
       "      <td>8703</td>\n",
       "      <td>257363:2901</td>\n",
       "    </tr>\n",
       "    <tr>\n",
       "      <th>31088</th>\n",
       "      <td>9/18/21</td>\n",
       "      <td>Wyoming</td>\n",
       "      <td>83958</td>\n",
       "      <td>918</td>\n",
       "      <td>13993:153</td>\n",
       "    </tr>\n",
       "  </tbody>\n",
       "</table>\n",
       "</div>"
      ],
      "text/plain": [
       "          date          state   cases  deaths         ratio\n",
       "31084  9/18/21       Virginia  827197   12242  827197:12242\n",
       "31085  9/18/21     Washington  623254    7256   311627:3628\n",
       "31086  9/18/21  West Virginia  221513    3370   221513:3370\n",
       "31087  9/18/21      Wisconsin  772089    8703   257363:2901\n",
       "31088  9/18/21        Wyoming   83958     918     13993:153"
      ]
     },
     "execution_count": 14,
     "metadata": {},
     "output_type": "execute_result"
    }
   ],
   "source": [
    "################# Your answer for Question 3.4   #################\n",
    "\n",
    "################# Your code here #################\n",
    "import math\n",
    "ratio_values = []\n",
    "for _, row in data.iterrows():\n",
    "       #ratio_values.append( (row['deaths'] / row['cases']) )\n",
    "        ratio_values.append(str(int(round(row['cases'] / (math.gcd(row['deaths'], row['cases'])),0))) + ':'+ str(int(round(row['deaths'] / (math.gcd(row['deaths'], row['cases'])),0))))\n",
    "data.insert(4, 'ratio', ratio_values, True)\n",
    "data.tail()"
   ]
  },
  {
   "cell_type": "markdown",
   "id": "demonstrated-webster",
   "metadata": {},
   "source": [
    "# Question 4 (Seaborn and Matplotlib, 35 pts)"
   ]
  },
  {
   "cell_type": "markdown",
   "id": "several-watts",
   "metadata": {},
   "source": [
    "### Visualizing pairplots using seaborn\n",
    "\n",
    "**Seaborn:** Python library for statistical data visualization built on top of Matplotlib\n",
    "\n",
    "**Tutorial:** detailed example codes are [here](https://seaborn.pydata.org/tutorial.html) if needed."
   ]
  },
  {
   "cell_type": "markdown",
   "id": "powerful-essence",
   "metadata": {},
   "source": [
    "Now we shortly switch our focus to data that only about California, Arizona and Washington."
   ]
  },
  {
   "cell_type": "code",
   "execution_count": 15,
   "id": "figured-credit",
   "metadata": {},
   "outputs": [
    {
     "data": {
      "text/html": [
       "<div>\n",
       "<style scoped>\n",
       "    .dataframe tbody tr th:only-of-type {\n",
       "        vertical-align: middle;\n",
       "    }\n",
       "\n",
       "    .dataframe tbody tr th {\n",
       "        vertical-align: top;\n",
       "    }\n",
       "\n",
       "    .dataframe thead th {\n",
       "        text-align: right;\n",
       "    }\n",
       "</style>\n",
       "<table border=\"1\" class=\"dataframe\">\n",
       "  <thead>\n",
       "    <tr style=\"text-align: right;\">\n",
       "      <th></th>\n",
       "      <th>date</th>\n",
       "      <th>state</th>\n",
       "      <th>cases</th>\n",
       "      <th>deaths</th>\n",
       "      <th>ratio</th>\n",
       "    </tr>\n",
       "  </thead>\n",
       "  <tbody>\n",
       "    <tr>\n",
       "      <th>0</th>\n",
       "      <td>1/21/20</td>\n",
       "      <td>Washington</td>\n",
       "      <td>1</td>\n",
       "      <td>0</td>\n",
       "      <td>1:0</td>\n",
       "    </tr>\n",
       "    <tr>\n",
       "      <th>1</th>\n",
       "      <td>1/22/20</td>\n",
       "      <td>Washington</td>\n",
       "      <td>1</td>\n",
       "      <td>0</td>\n",
       "      <td>1:0</td>\n",
       "    </tr>\n",
       "    <tr>\n",
       "      <th>2</th>\n",
       "      <td>1/23/20</td>\n",
       "      <td>Washington</td>\n",
       "      <td>1</td>\n",
       "      <td>0</td>\n",
       "      <td>1:0</td>\n",
       "    </tr>\n",
       "    <tr>\n",
       "      <th>3</th>\n",
       "      <td>1/24/20</td>\n",
       "      <td>Washington</td>\n",
       "      <td>1</td>\n",
       "      <td>0</td>\n",
       "      <td>1:0</td>\n",
       "    </tr>\n",
       "    <tr>\n",
       "      <th>4</th>\n",
       "      <td>1/25/20</td>\n",
       "      <td>California</td>\n",
       "      <td>1</td>\n",
       "      <td>0</td>\n",
       "      <td>1:0</td>\n",
       "    </tr>\n",
       "  </tbody>\n",
       "</table>\n",
       "</div>"
      ],
      "text/plain": [
       "      date       state  cases  deaths ratio\n",
       "0  1/21/20  Washington      1       0   1:0\n",
       "1  1/22/20  Washington      1       0   1:0\n",
       "2  1/23/20  Washington      1       0   1:0\n",
       "3  1/24/20  Washington      1       0   1:0\n",
       "4  1/25/20  California      1       0   1:0"
      ]
     },
     "execution_count": 15,
     "metadata": {},
     "output_type": "execute_result"
    }
   ],
   "source": [
    "# the sub-dataframe contains only 'California', 'Arizona', 'Washington' is named as subset\n",
    "subset = data.loc[data['state'].isin(['California', 'Arizona', 'Washington'])]\n",
    "subset = subset.reset_index(drop=True)\n",
    "subset.head()"
   ]
  },
  {
   "cell_type": "code",
   "execution_count": 16,
   "id": "public-clinton",
   "metadata": {},
   "outputs": [],
   "source": [
    "# import required packages\n",
    "import seaborn as sns\n",
    "import matplotlib.pyplot as plt\n",
    "# Allow figures to be shown in the jupyter notebook interface\n",
    "%matplotlib inline"
   ]
  },
  {
   "cell_type": "markdown",
   "id": "novel-speed",
   "metadata": {},
   "source": [
    "## Questipn 4.1 (Visualizing statistical relationships, 10 pts)\n",
    "**In Seaborn, <code>relplot()</code> provides access to several different axes-level functions that show the relationship between two variables with semantic mappings of subsets.**\n",
    "\n",
    "**Adopt <code>relplot()</code> and visualize how the variable \"cases\" changes w.r.t \"date\" for three selected states.**\n",
    "\n",
    "**A basic tutorial is [here](https://seaborn.pydata.org/generated/seaborn.relplot.html).**"
   ]
  },
  {
   "cell_type": "code",
   "execution_count": 17,
   "id": "norwegian-denial",
   "metadata": {},
   "outputs": [
    {
     "data": {
      "image/png": "[encoded data removed]",
      "text/plain": [
       "<Figure size 454.875x360 with 1 Axes>"
      ]
     },
     "metadata": {
      "needs_background": "light"
     },
     "output_type": "display_data"
    }
   ],
   "source": [
    "################# Your answer for Question 4.1   #################\n",
    "\n",
    "################# Your code here #################\n",
    "sns.relplot(data=subset, x=\"date\", y=\"cases\", hue=\"state\")\n",
    "\n",
    "\n",
    "# Ignore the xticks (since too many dates)\n",
    "plt.tick_params(axis='both',          # changes apply to the x-axis\n",
    "    which='both',      # both major and minor ticks are affected\n",
    "    bottom=False,      # ticks along the bottom edge are off\n",
    "    top=False,         # ticks along the top edge are off\n",
    "    labelbottom=False)\n",
    "\n",
    "# Use matplotlib to modify figure parameters\n",
    "plt.ylabel('Cases', fontsize=14)\n",
    "plt.yticks(fontsize=12)\n",
    "plt.xlabel('Date', fontsize=14)\n",
    "plt.title('Time series of number of cases per state', fontsize=14)\n",
    "plt.show()"
   ]
  },
  {
   "cell_type": "markdown",
   "id": "divine-judge",
   "metadata": {},
   "source": [
    "## Question 4.2 (Regression plot with Seaborn, 5 * 3 + 10 pts)\n",
    "In Seaborn, there are several statistical models to estimate a simple relationship between two sets of observations. A basic tutorial is [here](https://seaborn.pydata.org/tutorial/regression.html). \n",
    "\n",
    "Suppose we are only interested in covid-19 information for \"California\""
   ]
  },
  {
   "cell_type": "code",
   "execution_count": 18,
   "id": "damaged-organic",
   "metadata": {},
   "outputs": [
    {
     "name": "stdout",
     "output_type": "stream",
     "text": [
      "(603, 5)\n"
     ]
    },
    {
     "data": {
      "text/html": [
       "<div>\n",
       "<style scoped>\n",
       "    .dataframe tbody tr th:only-of-type {\n",
       "        vertical-align: middle;\n",
       "    }\n",
       "\n",
       "    .dataframe tbody tr th {\n",
       "        vertical-align: top;\n",
       "    }\n",
       "\n",
       "    .dataframe thead th {\n",
       "        text-align: right;\n",
       "    }\n",
       "</style>\n",
       "<table border=\"1\" class=\"dataframe\">\n",
       "  <thead>\n",
       "    <tr style=\"text-align: right;\">\n",
       "      <th></th>\n",
       "      <th>date</th>\n",
       "      <th>state</th>\n",
       "      <th>cases</th>\n",
       "      <th>deaths</th>\n",
       "      <th>ratio</th>\n",
       "    </tr>\n",
       "  </thead>\n",
       "  <tbody>\n",
       "    <tr>\n",
       "      <th>0</th>\n",
       "      <td>1/25/20</td>\n",
       "      <td>California</td>\n",
       "      <td>1</td>\n",
       "      <td>0</td>\n",
       "      <td>1:0</td>\n",
       "    </tr>\n",
       "    <tr>\n",
       "      <th>1</th>\n",
       "      <td>1/26/20</td>\n",
       "      <td>California</td>\n",
       "      <td>2</td>\n",
       "      <td>0</td>\n",
       "      <td>1:0</td>\n",
       "    </tr>\n",
       "    <tr>\n",
       "      <th>2</th>\n",
       "      <td>1/27/20</td>\n",
       "      <td>California</td>\n",
       "      <td>2</td>\n",
       "      <td>0</td>\n",
       "      <td>1:0</td>\n",
       "    </tr>\n",
       "    <tr>\n",
       "      <th>3</th>\n",
       "      <td>1/28/20</td>\n",
       "      <td>California</td>\n",
       "      <td>2</td>\n",
       "      <td>0</td>\n",
       "      <td>1:0</td>\n",
       "    </tr>\n",
       "    <tr>\n",
       "      <th>4</th>\n",
       "      <td>1/29/20</td>\n",
       "      <td>California</td>\n",
       "      <td>2</td>\n",
       "      <td>0</td>\n",
       "      <td>1:0</td>\n",
       "    </tr>\n",
       "  </tbody>\n",
       "</table>\n",
       "</div>"
      ],
      "text/plain": [
       "      date       state  cases  deaths ratio\n",
       "0  1/25/20  California      1       0   1:0\n",
       "1  1/26/20  California      2       0   1:0\n",
       "2  1/27/20  California      2       0   1:0\n",
       "3  1/28/20  California      2       0   1:0\n",
       "4  1/29/20  California      2       0   1:0"
      ]
     },
     "execution_count": 18,
     "metadata": {},
     "output_type": "execute_result"
    }
   ],
   "source": [
    "# Only adopt samples of California information\n",
    "\n",
    "data_ca = subset[subset['state']=='California']\n",
    "print(data_ca.shape)\n",
    "data_ca = data_ca.reset_index(drop=True)\n",
    "data_ca.head()"
   ]
  },
  {
   "cell_type": "markdown",
   "id": "indie-tender",
   "metadata": {},
   "source": [
    "### Question 4.2.1 Visualize 1 (5 pts)\n",
    "**Use seaborn <code>regplot()</code> to visualize the relationship between \"date_order\" \"deaths\". (select only first 50 rows of the dataframe \"data_ca\")**\n",
    "\n",
    "**A reference link is [here](https://seaborn.pydata.org/generated/seaborn.regplot.html).**"
   ]
  },
  {
   "cell_type": "code",
   "execution_count": 19,
   "id": "joint-agreement",
   "metadata": {},
   "outputs": [
    {
     "data": {
      "image/png": "[encoded data removed]",
      "text/plain": [
       "<Figure size 432x288 with 1 Axes>"
      ]
     },
     "metadata": {
      "needs_background": "light"
     },
     "output_type": "display_data"
    }
   ],
   "source": [
    "data_ca['date_order'] = [i+1 for i in range(data_ca.shape[0])]\n",
    "\n",
    "################# Your answer for Question 4.2.1   #################\n",
    "\n",
    "################# Your code here (reminder: select \"date_order\" rather than \"date\") #################\n",
    "sns.regplot(x=\"date_order\", y=\"deaths\", data=data_ca[0:50])\n",
    "\n",
    "plt.ylabel('Deaths', fontsize=14)\n",
    "plt.yticks(fontsize=12)\n",
    "plt.xlabel('Date', fontsize=14)\n",
    "plt.title('Number of deaths in California', fontsize=14)\n",
    "plt.show()"
   ]
  },
  {
   "cell_type": "markdown",
   "id": "maritime-clearing",
   "metadata": {},
   "source": [
    "### Queation 4.2.2 Visualize 2 (5 pts)\n",
    "**Use seaborn <code>regplot()</code> to visualize the relationship between \"date_order\" \"deaths\". (select first 100 rows of the dataframe \"data_ca\")**\n",
    "\n",
    "**Same as Visualize 1, but with more rows of the dataframe \"data_ca\" included. A reference link is [here](https://seaborn.pydata.org/generated/seaborn.regplot.html).**"
   ]
  },
  {
   "cell_type": "code",
   "execution_count": 20,
   "id": "ecological-million",
   "metadata": {},
   "outputs": [
    {
     "data": {
      "image/png": "[encoded data removed]",
      "text/plain": [
       "<Figure size 432x288 with 1 Axes>"
      ]
     },
     "metadata": {
      "needs_background": "light"
     },
     "output_type": "display_data"
    }
   ],
   "source": [
    "################# Your answer for Question 4.2.2   #################\n",
    "\n",
    "################# Your code here (only visualize w.r.t. first 100 rows of dataframe \"data_ca\") #################\n",
    "sns.regplot(x=\"date_order\", y=\"deaths\", data=data_ca[0:100])\n",
    "\n",
    "plt.ylabel('Deaths', fontsize=14)\n",
    "plt.yticks(fontsize=12)\n",
    "plt.xlabel('Date', fontsize=14)\n",
    "plt.title('Number of deaths in California', fontsize=14)\n",
    "plt.show()"
   ]
  },
  {
   "cell_type": "markdown",
   "id": "vital-raising",
   "metadata": {},
   "source": [
    "### Queation 4.2.3 Visualize 3 (5 pts)\n",
    "**Use seaborn <code>regplot()</code> to visualize the relationship between \"date_order\" \"deaths\". (use the whole dataframe \"data_ca\")**\n",
    "\n",
    "**Same as Visualize 1, but use the whole dataframe \"data_ca\".**"
   ]
  },
  {
   "cell_type": "code",
   "execution_count": 21,
   "id": "sustained-overall",
   "metadata": {},
   "outputs": [
    {
     "data": {
      "image/png": "[encoded data removed]",
      "text/plain": [
       "<Figure size 432x288 with 1 Axes>"
      ]
     },
     "metadata": {
      "needs_background": "light"
     },
     "output_type": "display_data"
    }
   ],
   "source": [
    "################# Your answer for Question 4.2.3   #################\n",
    "\n",
    "################# Your code here #################\n",
    "sns.regplot(x=\"date_order\", y=\"deaths\", data=data_ca)\n",
    "\n",
    "plt.ylabel('Deaths', fontsize=14)\n",
    "plt.yticks(fontsize=12)\n",
    "plt.xlabel('Date', fontsize=14)\n",
    "plt.title('Number of deaths in California', fontsize=14)\n",
    "plt.show()"
   ]
  },
  {
   "cell_type": "markdown",
   "id": "buried-gardening",
   "metadata": {},
   "source": [
    "### Question 4.2.4 What is your observations from the above three figures? (10 pts, open question)"
   ]
  },
  {
   "cell_type": "markdown",
   "id": "random-reality",
   "metadata": {},
   "source": [
    "**Your observations:**"
   ]
  }
 ],
 "metadata": {
  "kernelspec": {
   "display_name": "Python 3",
   "language": "python",
   "name": "python3"
  },
  "language_info": {
   "codemirror_mode": {
    "name": "ipython",
    "version": 3
   },
   "file_extension": ".py",
   "mimetype": "text/x-python",
   "name": "python",
   "nbconvert_exporter": "python",
   "pygments_lexer": "ipython3",
   "version": "3.8.5"
  }
 },
 "nbformat": 4,
 "nbformat_minor": 5
}
